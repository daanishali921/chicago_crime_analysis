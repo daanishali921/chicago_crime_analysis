{
 "cells": [
  {
   "cell_type": "markdown",
   "id": "92b7daa1",
   "metadata": {},
   "source": [
    "# Chicago Crime Data Exploration"
   ]
  },
  {
   "cell_type": "markdown",
   "id": "7d02accd",
   "metadata": {},
   "source": [
    "## Imports and Functions"
   ]
  },
  {
   "cell_type": "code",
   "execution_count": 1,
   "id": "a39d2b4c",
   "metadata": {
    "ExecuteTime": {
     "end_time": "2022-05-11T20:36:20.614179Z",
     "start_time": "2022-05-11T20:36:20.219333Z"
    }
   },
   "outputs": [],
   "source": [
    "import pandas as pd\n",
    "import numpy as np\n",
    "import glob\n",
    "import os"
   ]
  },
  {
   "cell_type": "code",
   "execution_count": null,
   "id": "c3d52549",
   "metadata": {},
   "outputs": [],
   "source": [
    "def concat_data(df):\n",
    "    "
   ]
  },
  {
   "cell_type": "code",
   "execution_count": 8,
   "id": "4917f91b",
   "metadata": {
    "ExecuteTime": {
     "end_time": "2022-05-11T20:41:10.205093Z",
     "start_time": "2022-05-11T20:41:10.187003Z"
    }
   },
   "outputs": [],
   "source": [
    "list_of_files = glob.glob('C:/Users/Daanish/Desktop/projects/chicago_crime_analysis/dataset/crime-*') "
   ]
  },
  {
   "cell_type": "code",
   "execution_count": 18,
   "id": "a55b8369",
   "metadata": {
    "ExecuteTime": {
     "end_time": "2022-05-11T21:29:44.531206Z",
     "start_time": "2022-05-11T21:29:44.514157Z"
    }
   },
   "outputs": [],
   "source": [
    "def concat_data(files_list):\n",
    "    df_list = []\n",
    "    \n",
    "    for i in files_list:\n",
    "        df_list.append(pd.read_csv(i, compression='gzip', dtype={'iucr' : 'str', 'fbi_code' : 'str'}))\n",
    "    \n",
    "    return pd.concat(df_list)"
   ]
  },
  {
   "cell_type": "code",
   "execution_count": 19,
   "id": "12f51288",
   "metadata": {
    "ExecuteTime": {
     "end_time": "2022-05-11T21:30:15.473617Z",
     "start_time": "2022-05-11T21:29:45.227517Z"
    }
   },
   "outputs": [],
   "source": [
    "df_crime = concat_data(list_of_files)"
   ]
  },
  {
   "cell_type": "code",
   "execution_count": 21,
   "id": "be40108c",
   "metadata": {
    "ExecuteTime": {
     "end_time": "2022-05-11T21:31:48.030932Z",
     "start_time": "2022-05-11T21:31:39.024880Z"
    }
   },
   "outputs": [],
   "source": [
    "df_crime.to_pickle('C:/Users/Daanish/Desktop/projects/chicago_crime_analysis/dataset/df_crime_full')"
   ]
  },
  {
   "cell_type": "code",
   "execution_count": 27,
   "id": "621ca34d",
   "metadata": {
    "ExecuteTime": {
     "end_time": "2022-05-11T21:35:16.430244Z",
     "start_time": "2022-05-11T21:35:14.001762Z"
    }
   },
   "outputs": [],
   "source": [
    "df_crime = df_crime.reset_index(drop=True)"
   ]
  },
  {
   "cell_type": "code",
   "execution_count": 29,
   "id": "533eb35f",
   "metadata": {
    "ExecuteTime": {
     "end_time": "2022-05-11T21:36:16.869666Z",
     "start_time": "2022-05-11T21:36:16.843735Z"
    }
   },
   "outputs": [
    {
     "name": "stdout",
     "output_type": "stream",
     "text": [
      "<class 'pandas.core.frame.DataFrame'>\n",
      "RangeIndex: 7536704 entries, 0 to 7536703\n",
      "Data columns (total 22 columns):\n",
      " #   Column                Dtype  \n",
      "---  ------                -----  \n",
      " 0   unique_key            int64  \n",
      " 1   case_number           object \n",
      " 2   date                  object \n",
      " 3   block                 object \n",
      " 4   iucr                  object \n",
      " 5   primary_type          object \n",
      " 6   description           object \n",
      " 7   location_description  object \n",
      " 8   arrest                bool   \n",
      " 9   domestic              bool   \n",
      " 10  beat                  int64  \n",
      " 11  district              float64\n",
      " 12  ward                  float64\n",
      " 13  community_area        float64\n",
      " 14  fbi_code              object \n",
      " 15  x_coordinate          float64\n",
      " 16  y_coordinate          float64\n",
      " 17  year                  int64  \n",
      " 18  updated_on            object \n",
      " 19  latitude              float64\n",
      " 20  longitude             float64\n",
      " 21  location              object \n",
      "dtypes: bool(2), float64(7), int64(3), object(10)\n",
      "memory usage: 1.1+ GB\n"
     ]
    }
   ],
   "source": [
    "df_crime.info()"
   ]
  },
  {
   "cell_type": "code",
   "execution_count": 39,
   "id": "b208f70e",
   "metadata": {
    "ExecuteTime": {
     "end_time": "2022-05-11T21:44:29.489097Z",
     "start_time": "2022-05-11T21:44:29.473168Z"
    }
   },
   "outputs": [],
   "source": [
    "df_crime['count'] = 1"
   ]
  },
  {
   "cell_type": "code",
   "execution_count": 45,
   "id": "08447957",
   "metadata": {
    "ExecuteTime": {
     "end_time": "2022-05-11T21:51:41.583360Z",
     "start_time": "2022-05-11T21:51:41.140548Z"
    }
   },
   "outputs": [
    {
     "data": {
      "text/html": [
       "<div>\n",
       "<style scoped>\n",
       "    .dataframe tbody tr th:only-of-type {\n",
       "        vertical-align: middle;\n",
       "    }\n",
       "\n",
       "    .dataframe tbody tr th {\n",
       "        vertical-align: top;\n",
       "    }\n",
       "\n",
       "    .dataframe thead th {\n",
       "        text-align: right;\n",
       "    }\n",
       "</style>\n",
       "<table border=\"1\" class=\"dataframe\">\n",
       "  <thead>\n",
       "    <tr style=\"text-align: right;\">\n",
       "      <th></th>\n",
       "      <th>unique_key</th>\n",
       "      <th>case_number</th>\n",
       "      <th>date</th>\n",
       "      <th>block</th>\n",
       "      <th>iucr</th>\n",
       "      <th>primary_type</th>\n",
       "      <th>description</th>\n",
       "      <th>location_description</th>\n",
       "      <th>arrest</th>\n",
       "      <th>domestic</th>\n",
       "      <th>...</th>\n",
       "      <th>community_area</th>\n",
       "      <th>fbi_code</th>\n",
       "      <th>x_coordinate</th>\n",
       "      <th>y_coordinate</th>\n",
       "      <th>year</th>\n",
       "      <th>updated_on</th>\n",
       "      <th>latitude</th>\n",
       "      <th>longitude</th>\n",
       "      <th>location</th>\n",
       "      <th>count</th>\n",
       "    </tr>\n",
       "  </thead>\n",
       "  <tbody>\n",
       "    <tr>\n",
       "      <th>87891</th>\n",
       "      <td>1326195</td>\n",
       "      <td>G021609</td>\n",
       "      <td>2001-01-11 02:30:41 UTC</td>\n",
       "      <td>087XX S ESCANABA AV</td>\n",
       "      <td>9901</td>\n",
       "      <td>DOMESTIC VIOLENCE</td>\n",
       "      <td>DOMESTIC VIOLENCE</td>\n",
       "      <td>APARTMENT</td>\n",
       "      <td>True</td>\n",
       "      <td>True</td>\n",
       "      <td>...</td>\n",
       "      <td>NaN</td>\n",
       "      <td>08B</td>\n",
       "      <td>1196869.0</td>\n",
       "      <td>1847416.0</td>\n",
       "      <td>2001</td>\n",
       "      <td>2015-08-17 03:03:40 UTC</td>\n",
       "      <td>41.736176</td>\n",
       "      <td>-87.55432</td>\n",
       "      <td>(41.73617608, -87.554319607)</td>\n",
       "      <td>1</td>\n",
       "    </tr>\n",
       "  </tbody>\n",
       "</table>\n",
       "<p>1 rows × 23 columns</p>\n",
       "</div>"
      ],
      "text/plain": [
       "       unique_key case_number                     date                block  \\\n",
       "87891     1326195     G021609  2001-01-11 02:30:41 UTC  087XX S ESCANABA AV   \n",
       "\n",
       "       iucr       primary_type        description location_description  \\\n",
       "87891  9901  DOMESTIC VIOLENCE  DOMESTIC VIOLENCE            APARTMENT   \n",
       "\n",
       "       arrest  domestic  ...  community_area  fbi_code  x_coordinate  \\\n",
       "87891    True      True  ...             NaN       08B     1196869.0   \n",
       "\n",
       "       y_coordinate  year               updated_on   latitude  longitude  \\\n",
       "87891     1847416.0  2001  2015-08-17 03:03:40 UTC  41.736176  -87.55432   \n",
       "\n",
       "                           location  count  \n",
       "87891  (41.73617608, -87.554319607)      1  \n",
       "\n",
       "[1 rows x 23 columns]"
      ]
     },
     "execution_count": 45,
     "metadata": {},
     "output_type": "execute_result"
    }
   ],
   "source": [
    "df_crime.loc[df_crime['primary_type'] == 'DOMESTIC VIOLENCE']"
   ]
  },
  {
   "cell_type": "code",
   "execution_count": 46,
   "id": "b0f64ca8",
   "metadata": {
    "ExecuteTime": {
     "end_time": "2022-05-11T21:52:36.859637Z",
     "start_time": "2022-05-11T21:52:26.156748Z"
    }
   },
   "outputs": [
    {
     "data": {
      "text/html": [
       "<div>\n",
       "<style scoped>\n",
       "    .dataframe tbody tr th:only-of-type {\n",
       "        vertical-align: middle;\n",
       "    }\n",
       "\n",
       "    .dataframe tbody tr th {\n",
       "        vertical-align: top;\n",
       "    }\n",
       "\n",
       "    .dataframe thead th {\n",
       "        text-align: right;\n",
       "    }\n",
       "</style>\n",
       "<table border=\"1\" class=\"dataframe\">\n",
       "  <thead>\n",
       "    <tr style=\"text-align: right;\">\n",
       "      <th></th>\n",
       "      <th>unique_key</th>\n",
       "      <th>case_number</th>\n",
       "      <th>date</th>\n",
       "      <th>block</th>\n",
       "      <th>iucr</th>\n",
       "      <th>primary_type</th>\n",
       "      <th>description</th>\n",
       "      <th>location_description</th>\n",
       "      <th>arrest</th>\n",
       "      <th>domestic</th>\n",
       "      <th>...</th>\n",
       "      <th>community_area</th>\n",
       "      <th>fbi_code</th>\n",
       "      <th>x_coordinate</th>\n",
       "      <th>y_coordinate</th>\n",
       "      <th>year</th>\n",
       "      <th>updated_on</th>\n",
       "      <th>latitude</th>\n",
       "      <th>longitude</th>\n",
       "      <th>location</th>\n",
       "      <th>count</th>\n",
       "    </tr>\n",
       "  </thead>\n",
       "  <tbody>\n",
       "    <tr>\n",
       "      <th>0</th>\n",
       "      <td>4299735</td>\n",
       "      <td>HL611573</td>\n",
       "      <td>2005-09-08 09:30:00 UTC</td>\n",
       "      <td>085XX S STONY ISLAND AVE</td>\n",
       "      <td>2830</td>\n",
       "      <td>OTHER OFFENSE</td>\n",
       "      <td>OBSCENE TELEPHONE CALLS</td>\n",
       "      <td>COMMERCIAL / BUSINESS OFFICE</td>\n",
       "      <td>False</td>\n",
       "      <td>False</td>\n",
       "      <td>...</td>\n",
       "      <td>45.0</td>\n",
       "      <td>17</td>\n",
       "      <td>1188294.0</td>\n",
       "      <td>1848471.0</td>\n",
       "      <td>2005</td>\n",
       "      <td>2018-02-28 03:56:25 UTC</td>\n",
       "      <td>41.739280</td>\n",
       "      <td>-87.585701</td>\n",
       "      <td>(41.739279802, -87.5857013)</td>\n",
       "      <td>1</td>\n",
       "    </tr>\n",
       "    <tr>\n",
       "      <th>1</th>\n",
       "      <td>4381908</td>\n",
       "      <td>HL593382</td>\n",
       "      <td>2005-09-05 05:20:40 UTC</td>\n",
       "      <td>134XX S BURLEY AVE</td>\n",
       "      <td>2170</td>\n",
       "      <td>NARCOTICS</td>\n",
       "      <td>POSSESSION OF DRUG EQUIPMENT</td>\n",
       "      <td>SIDEWALK</td>\n",
       "      <td>True</td>\n",
       "      <td>False</td>\n",
       "      <td>...</td>\n",
       "      <td>55.0</td>\n",
       "      <td>18</td>\n",
       "      <td>1199770.0</td>\n",
       "      <td>1816376.0</td>\n",
       "      <td>2005</td>\n",
       "      <td>2018-02-10 03:50:01 UTC</td>\n",
       "      <td>41.650927</td>\n",
       "      <td>-87.544733</td>\n",
       "      <td>(41.650926841, -87.54473274)</td>\n",
       "      <td>1</td>\n",
       "    </tr>\n",
       "    <tr>\n",
       "      <th>2</th>\n",
       "      <td>4549587</td>\n",
       "      <td>HM139464</td>\n",
       "      <td>2006-01-22 05:00:00 UTC</td>\n",
       "      <td>064XX S LAMON AVE</td>\n",
       "      <td>1305</td>\n",
       "      <td>CRIMINAL DAMAGE</td>\n",
       "      <td>CRIMINAL DEFACEMENT</td>\n",
       "      <td>RESIDENCE-GARAGE</td>\n",
       "      <td>False</td>\n",
       "      <td>False</td>\n",
       "      <td>...</td>\n",
       "      <td>64.0</td>\n",
       "      <td>14</td>\n",
       "      <td>1144825.0</td>\n",
       "      <td>1861427.0</td>\n",
       "      <td>2006</td>\n",
       "      <td>2018-02-28 03:56:25 UTC</td>\n",
       "      <td>41.775759</td>\n",
       "      <td>-87.744641</td>\n",
       "      <td>(41.775759303, -87.744640849)</td>\n",
       "      <td>1</td>\n",
       "    </tr>\n",
       "    <tr>\n",
       "      <th>3</th>\n",
       "      <td>6014908</td>\n",
       "      <td>HP118020</td>\n",
       "      <td>2008-01-11 07:40:00 UTC</td>\n",
       "      <td>050XX N KIMBALL AVE</td>\n",
       "      <td>0484</td>\n",
       "      <td>BATTERY</td>\n",
       "      <td>PRO EMP HANDS NO/MIN INJURY</td>\n",
       "      <td>SCHOOL, PUBLIC, BUILDING</td>\n",
       "      <td>False</td>\n",
       "      <td>False</td>\n",
       "      <td>...</td>\n",
       "      <td>13.0</td>\n",
       "      <td>08B</td>\n",
       "      <td>1152801.0</td>\n",
       "      <td>1933422.0</td>\n",
       "      <td>2008</td>\n",
       "      <td>2018-02-28 03:56:25 UTC</td>\n",
       "      <td>41.973168</td>\n",
       "      <td>-87.713495</td>\n",
       "      <td>(41.973167821, -87.713495268)</td>\n",
       "      <td>1</td>\n",
       "    </tr>\n",
       "    <tr>\n",
       "      <th>4</th>\n",
       "      <td>6291589</td>\n",
       "      <td>HP378927</td>\n",
       "      <td>2008-06-06 12:30:00 UTC</td>\n",
       "      <td>006XX E 131ST ST</td>\n",
       "      <td>0484</td>\n",
       "      <td>BATTERY</td>\n",
       "      <td>PRO EMP HANDS NO/MIN INJURY</td>\n",
       "      <td>SCHOOL, PUBLIC, BUILDING</td>\n",
       "      <td>False</td>\n",
       "      <td>False</td>\n",
       "      <td>...</td>\n",
       "      <td>54.0</td>\n",
       "      <td>08B</td>\n",
       "      <td>1182901.0</td>\n",
       "      <td>1818558.0</td>\n",
       "      <td>2008</td>\n",
       "      <td>2018-02-28 03:56:25 UTC</td>\n",
       "      <td>41.657321</td>\n",
       "      <td>-87.606385</td>\n",
       "      <td>(41.657321469, -87.606385112)</td>\n",
       "      <td>1</td>\n",
       "    </tr>\n",
       "    <tr>\n",
       "      <th>...</th>\n",
       "      <td>...</td>\n",
       "      <td>...</td>\n",
       "      <td>...</td>\n",
       "      <td>...</td>\n",
       "      <td>...</td>\n",
       "      <td>...</td>\n",
       "      <td>...</td>\n",
       "      <td>...</td>\n",
       "      <td>...</td>\n",
       "      <td>...</td>\n",
       "      <td>...</td>\n",
       "      <td>...</td>\n",
       "      <td>...</td>\n",
       "      <td>...</td>\n",
       "      <td>...</td>\n",
       "      <td>...</td>\n",
       "      <td>...</td>\n",
       "      <td>...</td>\n",
       "      <td>...</td>\n",
       "      <td>...</td>\n",
       "      <td>...</td>\n",
       "    </tr>\n",
       "    <tr>\n",
       "      <th>7536699</th>\n",
       "      <td>2163850</td>\n",
       "      <td>HH389795</td>\n",
       "      <td>2002-05-22 08:36:00 UTC</td>\n",
       "      <td>058XX N WINTHROP AVE</td>\n",
       "      <td>5002</td>\n",
       "      <td>OTHER OFFENSE</td>\n",
       "      <td>OTHER VEHICLE OFFENSE</td>\n",
       "      <td>STREET</td>\n",
       "      <td>False</td>\n",
       "      <td>False</td>\n",
       "      <td>...</td>\n",
       "      <td>77.0</td>\n",
       "      <td>26</td>\n",
       "      <td>1167806.0</td>\n",
       "      <td>1939007.0</td>\n",
       "      <td>2002</td>\n",
       "      <td>2018-02-10 03:50:01 UTC</td>\n",
       "      <td>41.988182</td>\n",
       "      <td>-87.658157</td>\n",
       "      <td>(41.988182041, -87.658156779)</td>\n",
       "      <td>1</td>\n",
       "    </tr>\n",
       "    <tr>\n",
       "      <th>7536700</th>\n",
       "      <td>3985229</td>\n",
       "      <td>HL348781</td>\n",
       "      <td>2005-05-10 08:00:00 UTC</td>\n",
       "      <td>060XX N RIDGE AVE</td>\n",
       "      <td>5002</td>\n",
       "      <td>OTHER OFFENSE</td>\n",
       "      <td>OTHER VEHICLE OFFENSE</td>\n",
       "      <td>STREET</td>\n",
       "      <td>False</td>\n",
       "      <td>False</td>\n",
       "      <td>...</td>\n",
       "      <td>77.0</td>\n",
       "      <td>26</td>\n",
       "      <td>1163480.0</td>\n",
       "      <td>1940257.0</td>\n",
       "      <td>2005</td>\n",
       "      <td>2018-02-28 03:56:25 UTC</td>\n",
       "      <td>41.991705</td>\n",
       "      <td>-87.674033</td>\n",
       "      <td>(41.991704561, -87.67403274)</td>\n",
       "      <td>1</td>\n",
       "    </tr>\n",
       "    <tr>\n",
       "      <th>7536701</th>\n",
       "      <td>2163936</td>\n",
       "      <td>HH389776</td>\n",
       "      <td>2002-05-22 08:35:00 UTC</td>\n",
       "      <td>058XX N WINTHROP AVE</td>\n",
       "      <td>5002</td>\n",
       "      <td>OTHER OFFENSE</td>\n",
       "      <td>OTHER VEHICLE OFFENSE</td>\n",
       "      <td>STREET</td>\n",
       "      <td>False</td>\n",
       "      <td>False</td>\n",
       "      <td>...</td>\n",
       "      <td>77.0</td>\n",
       "      <td>26</td>\n",
       "      <td>1167806.0</td>\n",
       "      <td>1939007.0</td>\n",
       "      <td>2002</td>\n",
       "      <td>2018-02-10 03:50:01 UTC</td>\n",
       "      <td>41.988182</td>\n",
       "      <td>-87.658157</td>\n",
       "      <td>(41.988182041, -87.658156779)</td>\n",
       "      <td>1</td>\n",
       "    </tr>\n",
       "    <tr>\n",
       "      <th>7536702</th>\n",
       "      <td>2640368</td>\n",
       "      <td>HJ250063</td>\n",
       "      <td>2003-03-18 08:00:00 UTC</td>\n",
       "      <td>060XX N KENMORE AVE</td>\n",
       "      <td>5002</td>\n",
       "      <td>OTHER OFFENSE</td>\n",
       "      <td>OTHER VEHICLE OFFENSE</td>\n",
       "      <td>STREET</td>\n",
       "      <td>True</td>\n",
       "      <td>False</td>\n",
       "      <td>...</td>\n",
       "      <td>77.0</td>\n",
       "      <td>26</td>\n",
       "      <td>1168149.0</td>\n",
       "      <td>1940233.0</td>\n",
       "      <td>2003</td>\n",
       "      <td>2018-02-28 03:56:25 UTC</td>\n",
       "      <td>41.991539</td>\n",
       "      <td>-87.656860</td>\n",
       "      <td>(41.991538784, -87.656859584)</td>\n",
       "      <td>1</td>\n",
       "    </tr>\n",
       "    <tr>\n",
       "      <th>7536703</th>\n",
       "      <td>6396369</td>\n",
       "      <td>HP481055</td>\n",
       "      <td>2008-07-28 11:29:00 UTC</td>\n",
       "      <td>056XX N BROADWAY</td>\n",
       "      <td>5002</td>\n",
       "      <td>OTHER OFFENSE</td>\n",
       "      <td>OTHER VEHICLE OFFENSE</td>\n",
       "      <td>SIDEWALK</td>\n",
       "      <td>True</td>\n",
       "      <td>False</td>\n",
       "      <td>...</td>\n",
       "      <td>77.0</td>\n",
       "      <td>26</td>\n",
       "      <td>1167294.0</td>\n",
       "      <td>1937509.0</td>\n",
       "      <td>2008</td>\n",
       "      <td>2018-02-28 03:56:25 UTC</td>\n",
       "      <td>41.984083</td>\n",
       "      <td>-87.660083</td>\n",
       "      <td>(41.984082552, -87.660083261)</td>\n",
       "      <td>1</td>\n",
       "    </tr>\n",
       "  </tbody>\n",
       "</table>\n",
       "<p>6844631 rows × 23 columns</p>\n",
       "</div>"
      ],
      "text/plain": [
       "         unique_key case_number                     date  \\\n",
       "0           4299735    HL611573  2005-09-08 09:30:00 UTC   \n",
       "1           4381908    HL593382  2005-09-05 05:20:40 UTC   \n",
       "2           4549587    HM139464  2006-01-22 05:00:00 UTC   \n",
       "3           6014908    HP118020  2008-01-11 07:40:00 UTC   \n",
       "4           6291589    HP378927  2008-06-06 12:30:00 UTC   \n",
       "...             ...         ...                      ...   \n",
       "7536699     2163850    HH389795  2002-05-22 08:36:00 UTC   \n",
       "7536700     3985229    HL348781  2005-05-10 08:00:00 UTC   \n",
       "7536701     2163936    HH389776  2002-05-22 08:35:00 UTC   \n",
       "7536702     2640368    HJ250063  2003-03-18 08:00:00 UTC   \n",
       "7536703     6396369    HP481055  2008-07-28 11:29:00 UTC   \n",
       "\n",
       "                            block  iucr     primary_type  \\\n",
       "0        085XX S STONY ISLAND AVE  2830    OTHER OFFENSE   \n",
       "1              134XX S BURLEY AVE  2170        NARCOTICS   \n",
       "2               064XX S LAMON AVE  1305  CRIMINAL DAMAGE   \n",
       "3             050XX N KIMBALL AVE  0484          BATTERY   \n",
       "4                006XX E 131ST ST  0484          BATTERY   \n",
       "...                           ...   ...              ...   \n",
       "7536699      058XX N WINTHROP AVE  5002    OTHER OFFENSE   \n",
       "7536700         060XX N RIDGE AVE  5002    OTHER OFFENSE   \n",
       "7536701      058XX N WINTHROP AVE  5002    OTHER OFFENSE   \n",
       "7536702       060XX N KENMORE AVE  5002    OTHER OFFENSE   \n",
       "7536703          056XX N BROADWAY  5002    OTHER OFFENSE   \n",
       "\n",
       "                          description          location_description  arrest  \\\n",
       "0             OBSCENE TELEPHONE CALLS  COMMERCIAL / BUSINESS OFFICE   False   \n",
       "1        POSSESSION OF DRUG EQUIPMENT                      SIDEWALK    True   \n",
       "2                 CRIMINAL DEFACEMENT              RESIDENCE-GARAGE   False   \n",
       "3         PRO EMP HANDS NO/MIN INJURY      SCHOOL, PUBLIC, BUILDING   False   \n",
       "4         PRO EMP HANDS NO/MIN INJURY      SCHOOL, PUBLIC, BUILDING   False   \n",
       "...                               ...                           ...     ...   \n",
       "7536699         OTHER VEHICLE OFFENSE                        STREET   False   \n",
       "7536700         OTHER VEHICLE OFFENSE                        STREET   False   \n",
       "7536701         OTHER VEHICLE OFFENSE                        STREET   False   \n",
       "7536702         OTHER VEHICLE OFFENSE                        STREET    True   \n",
       "7536703         OTHER VEHICLE OFFENSE                      SIDEWALK    True   \n",
       "\n",
       "         domestic  ...  community_area  fbi_code  x_coordinate  y_coordinate  \\\n",
       "0           False  ...            45.0        17     1188294.0     1848471.0   \n",
       "1           False  ...            55.0        18     1199770.0     1816376.0   \n",
       "2           False  ...            64.0        14     1144825.0     1861427.0   \n",
       "3           False  ...            13.0       08B     1152801.0     1933422.0   \n",
       "4           False  ...            54.0       08B     1182901.0     1818558.0   \n",
       "...           ...  ...             ...       ...           ...           ...   \n",
       "7536699     False  ...            77.0        26     1167806.0     1939007.0   \n",
       "7536700     False  ...            77.0        26     1163480.0     1940257.0   \n",
       "7536701     False  ...            77.0        26     1167806.0     1939007.0   \n",
       "7536702     False  ...            77.0        26     1168149.0     1940233.0   \n",
       "7536703     False  ...            77.0        26     1167294.0     1937509.0   \n",
       "\n",
       "         year               updated_on   latitude  longitude  \\\n",
       "0        2005  2018-02-28 03:56:25 UTC  41.739280 -87.585701   \n",
       "1        2005  2018-02-10 03:50:01 UTC  41.650927 -87.544733   \n",
       "2        2006  2018-02-28 03:56:25 UTC  41.775759 -87.744641   \n",
       "3        2008  2018-02-28 03:56:25 UTC  41.973168 -87.713495   \n",
       "4        2008  2018-02-28 03:56:25 UTC  41.657321 -87.606385   \n",
       "...       ...                      ...        ...        ...   \n",
       "7536699  2002  2018-02-10 03:50:01 UTC  41.988182 -87.658157   \n",
       "7536700  2005  2018-02-28 03:56:25 UTC  41.991705 -87.674033   \n",
       "7536701  2002  2018-02-10 03:50:01 UTC  41.988182 -87.658157   \n",
       "7536702  2003  2018-02-28 03:56:25 UTC  41.991539 -87.656860   \n",
       "7536703  2008  2018-02-28 03:56:25 UTC  41.984083 -87.660083   \n",
       "\n",
       "                              location  count  \n",
       "0          (41.739279802, -87.5857013)      1  \n",
       "1         (41.650926841, -87.54473274)      1  \n",
       "2        (41.775759303, -87.744640849)      1  \n",
       "3        (41.973167821, -87.713495268)      1  \n",
       "4        (41.657321469, -87.606385112)      1  \n",
       "...                                ...    ...  \n",
       "7536699  (41.988182041, -87.658156779)      1  \n",
       "7536700   (41.991704561, -87.67403274)      1  \n",
       "7536701  (41.988182041, -87.658156779)      1  \n",
       "7536702  (41.991538784, -87.656859584)      1  \n",
       "7536703  (41.984082552, -87.660083261)      1  \n",
       "\n",
       "[6844631 rows x 23 columns]"
      ]
     },
     "execution_count": 46,
     "metadata": {},
     "output_type": "execute_result"
    }
   ],
   "source": [
    "df_crime.dropna()"
   ]
  },
  {
   "cell_type": "code",
   "execution_count": 48,
   "id": "e241395e",
   "metadata": {
    "ExecuteTime": {
     "end_time": "2022-05-11T21:53:23.734838Z",
     "start_time": "2022-05-11T21:53:23.719856Z"
    }
   },
   "outputs": [
    {
     "data": {
      "text/plain": [
       "-0.09182701085248934"
      ]
     },
     "execution_count": 48,
     "metadata": {},
     "output_type": "execute_result"
    }
   ],
   "source": [
    "6844631 / 7536704 -1"
   ]
  },
  {
   "cell_type": "code",
   "execution_count": 42,
   "id": "ea2bf519",
   "metadata": {
    "ExecuteTime": {
     "end_time": "2022-05-11T21:45:43.454950Z",
     "start_time": "2022-05-11T21:45:37.046075Z"
    }
   },
   "outputs": [
    {
     "data": {
      "text/plain": [
       "primary_type\n",
       "DOMESTIC VIOLENCE                          1\n",
       "NON-CRIMINAL (SUBJECT SPECIFIED)           9\n",
       "RITUALISM                                 24\n",
       "NON - CRIMINAL                            38\n",
       "HUMAN TRAFFICKING                         90\n",
       "OTHER NARCOTIC VIOLATION                 141\n",
       "NON-CRIMINAL                             178\n",
       "PUBLIC INDECENCY                         188\n",
       "OBSCENITY                                767\n",
       "CONCEALED CARRY LICENSE VIOLATION        901\n",
       "STALKING                                4315\n",
       "INTIMIDATION                            4455\n",
       "CRIMINAL SEXUAL ASSAULT                 4912\n",
       "KIDNAPPING                              7090\n",
       "HOMICIDE                               11853\n",
       "ARSON                                  12813\n",
       "GAMBLING                               14608\n",
       "LIQUOR LAW VIOLATION                   14680\n",
       "INTERFERENCE WITH PUBLIC OFFICER       17931\n",
       "CRIM SEXUAL ASSAULT                    27751\n",
       "SEX OFFENSE                            29361\n",
       "PUBLIC PEACE VIOLATION                 51572\n",
       "OFFENSE INVOLVING CHILDREN             53532\n",
       "PROSTITUTION                           69565\n",
       "WEAPONS VIOLATION                      97693\n",
       "CRIMINAL TRESPASS                     209937\n",
       "ROBBERY                               283242\n",
       "DECEPTIVE PRACTICE                    327365\n",
       "MOTOR VEHICLE THEFT                   349266\n",
       "BURGLARY                              416885\n",
       "OTHER OFFENSE                         469135\n",
       "ASSAULT                               486246\n",
       "NARCOTICS                             742203\n",
       "CRIMINAL DAMAGE                       858975\n",
       "BATTERY                              1382378\n",
       "THEFT                                1586604\n",
       "Name: count, dtype: int64"
      ]
     },
     "execution_count": 42,
     "metadata": {},
     "output_type": "execute_result"
    }
   ],
   "source": [
    "df_crime.groupby('primary_type').count()['count'].sort_values()"
   ]
  },
  {
   "cell_type": "code",
   "execution_count": 49,
   "id": "95c581cc",
   "metadata": {
    "ExecuteTime": {
     "end_time": "2022-05-11T22:17:52.353080Z",
     "start_time": "2022-05-11T22:17:52.348093Z"
    }
   },
   "outputs": [
    {
     "data": {
      "text/plain": [
       "Index(['unique_key', 'case_number', 'date', 'block', 'iucr', 'primary_type',\n",
       "       'description', 'location_description', 'arrest', 'domestic', 'beat',\n",
       "       'district', 'ward', 'community_area', 'fbi_code', 'x_coordinate',\n",
       "       'y_coordinate', 'year', 'updated_on', 'latitude', 'longitude',\n",
       "       'location', 'count'],\n",
       "      dtype='object')"
      ]
     },
     "execution_count": 49,
     "metadata": {},
     "output_type": "execute_result"
    }
   ],
   "source": [
    "df_crime.columns"
   ]
  },
  {
   "cell_type": "code",
   "execution_count": 50,
   "id": "968a2e1a",
   "metadata": {
    "ExecuteTime": {
     "end_time": "2022-05-11T22:18:16.148468Z",
     "start_time": "2022-05-11T22:18:16.142454Z"
    }
   },
   "outputs": [
    {
     "data": {
      "text/plain": [
       "0           4.0\n",
       "1           4.0\n",
       "2           8.0\n",
       "3          17.0\n",
       "4           5.0\n",
       "           ... \n",
       "7536699    20.0\n",
       "7536700    24.0\n",
       "7536701    20.0\n",
       "7536702    24.0\n",
       "7536703    20.0\n",
       "Name: district, Length: 7536704, dtype: float64"
      ]
     },
     "execution_count": 50,
     "metadata": {},
     "output_type": "execute_result"
    }
   ],
   "source": [
    "relevant_columns = []"
   ]
  },
  {
   "cell_type": "code",
   "execution_count": 58,
   "id": "ae07a0fa",
   "metadata": {
    "ExecuteTime": {
     "end_time": "2022-05-12T00:05:15.946611Z",
     "start_time": "2022-05-12T00:05:15.924661Z"
    }
   },
   "outputs": [
    {
     "data": {
      "text/html": [
       "<div>\n",
       "<style scoped>\n",
       "    .dataframe tbody tr th:only-of-type {\n",
       "        vertical-align: middle;\n",
       "    }\n",
       "\n",
       "    .dataframe tbody tr th {\n",
       "        vertical-align: top;\n",
       "    }\n",
       "\n",
       "    .dataframe thead th {\n",
       "        text-align: right;\n",
       "    }\n",
       "</style>\n",
       "<table border=\"1\" class=\"dataframe\">\n",
       "  <thead>\n",
       "    <tr style=\"text-align: right;\">\n",
       "      <th></th>\n",
       "      <th>unique_key</th>\n",
       "      <th>case_number</th>\n",
       "      <th>date</th>\n",
       "      <th>block</th>\n",
       "      <th>iucr</th>\n",
       "      <th>primary_type</th>\n",
       "      <th>description</th>\n",
       "      <th>location_description</th>\n",
       "      <th>arrest</th>\n",
       "      <th>domestic</th>\n",
       "      <th>...</th>\n",
       "      <th>community_area</th>\n",
       "      <th>fbi_code</th>\n",
       "      <th>x_coordinate</th>\n",
       "      <th>y_coordinate</th>\n",
       "      <th>year</th>\n",
       "      <th>updated_on</th>\n",
       "      <th>latitude</th>\n",
       "      <th>longitude</th>\n",
       "      <th>location</th>\n",
       "      <th>count</th>\n",
       "    </tr>\n",
       "  </thead>\n",
       "  <tbody>\n",
       "  </tbody>\n",
       "</table>\n",
       "<p>0 rows × 23 columns</p>\n",
       "</div>"
      ],
      "text/plain": [
       "Empty DataFrame\n",
       "Columns: [unique_key, case_number, date, block, iucr, primary_type, description, location_description, arrest, domestic, beat, district, ward, community_area, fbi_code, x_coordinate, y_coordinate, year, updated_on, latitude, longitude, location, count]\n",
       "Index: []\n",
       "\n",
       "[0 rows x 23 columns]"
      ]
     },
     "execution_count": 58,
     "metadata": {},
     "output_type": "execute_result"
    }
   ],
   "source": [
    "df_crime.loc[df_crime['arrest'].isna()]"
   ]
  },
  {
   "cell_type": "code",
   "execution_count": null,
   "id": "15d52e54",
   "metadata": {},
   "outputs": [],
   "source": []
  }
 ],
 "metadata": {
  "kernelspec": {
   "display_name": "chicago_crime",
   "language": "python",
   "name": "chicago_crime"
  },
  "language_info": {
   "codemirror_mode": {
    "name": "ipython",
    "version": 3
   },
   "file_extension": ".py",
   "mimetype": "text/x-python",
   "name": "python",
   "nbconvert_exporter": "python",
   "pygments_lexer": "ipython3",
   "version": "3.9.12"
  }
 },
 "nbformat": 4,
 "nbformat_minor": 5
}
